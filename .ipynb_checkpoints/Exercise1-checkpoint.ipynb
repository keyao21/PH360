{
 "cells": [
  {
   "cell_type": "markdown",
   "metadata": {},
   "source": [
    "# Exercise 1\n",
    "\n",
    "### Implementing a singly linked list. \n",
    "\n",
    "Here is an implementation of a singly linked list and prescribed functionalities. First, create a class called Node, which will be used as the building blocks (items) of the linked list. "
   ]
  },
  {
   "cell_type": "code",
   "execution_count": 1,
   "metadata": {
    "collapsed": true
   },
   "outputs": [],
   "source": [
    "class Node():\n",
    "    def __init__(self, data):\n",
    "        self.data = data\n",
    "        self.next = None"
   ]
  },
  {
   "cell_type": "markdown",
   "metadata": {},
   "source": [
    "Implement the Linkedlist class using the Node class. (Note: only the addToTail and addToHead functions use the Node class)"
   ]
  },
  {
   "cell_type": "code",
   "execution_count": 2,
   "metadata": {
    "collapsed": false
   },
   "outputs": [],
   "source": [
    "class LinkedList():\n",
    "    def __init__(self):\n",
    "        self.head = None\n",
    "\n",
    "    def addToTail(self, data):\n",
    "        '''\n",
    "        This should add a node right after the last node\n",
    "        '''\n",
    "        newNode = Node(data)        \n",
    "        if self.head is None:\n",
    "            self.head = newNode\n",
    "        else:\n",
    "            currNode = self.head\n",
    "            while currNode.next:\n",
    "                currNode = currNode.next\n",
    "            currNode.next = newNode\n",
    "\n",
    "    def addToHead(self, data):\n",
    "        '''\n",
    "        This should add a node right after the head\n",
    "        '''\n",
    "        newNode = Node(data)\n",
    "        if self.head is None:\n",
    "            self.head = newNode\n",
    "        else:\n",
    "            tmpNode = self.head.next\n",
    "            self.head.next = newNode\n",
    "            newNode.next = tmpNode\n",
    "            \n",
    "    def traverse(self):\n",
    "        '''\n",
    "        This should print out the list starting from the head in\n",
    "        the form: a, b, c, d, e, ... y, z\n",
    "        '''\n",
    "        values = []\n",
    "        if self.head is None: \n",
    "            print('Empty List')\n",
    "        else:\n",
    "            currNode = self.head\n",
    "            while currNode:\n",
    "                values.append(currNode.data)\n",
    "                currNode = currNode.next\n",
    "            print(', '.join([str(value) for value in values]))\n",
    "\n",
    "    def addAfterNode(self, data, key):\n",
    "        '''\n",
    "        This should add a node after the node in the list with a \n",
    "        specified key (data attribute)\n",
    "        '''\n",
    "        newNode = Node(data)\n",
    "        if self.head is None:\n",
    "            print('Empty List')\n",
    "        else:\n",
    "            currNode = self.head\n",
    "            while currNode:\n",
    "                if currNode.data == key:\n",
    "                    tmpNode = currNode.next\n",
    "                    currNode.next = newNode\n",
    "                    newNode.next = tmpNode\n",
    "                    return\n",
    "                else:\n",
    "                    currNode = currNode.next\n",
    "            print('Key {} not found'.format(key))\n",
    "            \n",
    "    def deleteNode(self, key):\n",
    "        '''\n",
    "        This should delete the node with specified key (data attribute)\n",
    "        '''\n",
    "        if self.head is None:\n",
    "            print('Empty List')\n",
    "        elif self.head.data == key:\n",
    "            self.head = self.head.next\n",
    "        else:\n",
    "            currNode = self.head\n",
    "            while currNode.next:\n",
    "                if currNode.next.data == key:\n",
    "                    currNode.next = currNode.next.next\n",
    "                    return\n",
    "                else:\n",
    "                    currNode = currNode.next\n",
    "            print('Key {} not found'.format(key))\n",
    "    \n",
    "    def deepCopy(self):\n",
    "        '''\n",
    "        This is an implementation of a deep copy of the linked list\n",
    "        '''\n",
    "        newList = LinkedList()\n",
    "        if self.head:\n",
    "            currNode = self.head\n",
    "            while currNode:\n",
    "                newList.addToTail(currNode.data)\n",
    "                currNode = currNode.next\n",
    "        return newList\n",
    "    \n",
    "    def reverse(self):\n",
    "        '''\n",
    "        This should reverse the linked list (in place)\n",
    "        '''\n",
    "        if self.head:\n",
    "            currNode = None\n",
    "            nextNode = self.head\n",
    "            while nextNode:\n",
    "                tmpNode = nextNode.next\n",
    "                nextNode.next = currNode\n",
    "                currNode = nextNode\n",
    "                nextNode = tmpNode\n",
    "        self.head = currNode\n",
    "        "
   ]
  },
  {
   "cell_type": "markdown",
   "metadata": {},
   "source": [
    "### Testing functionalities\n",
    "\n",
    "Initialize an empty linked list. Call the traverse function, which should print out empty. "
   ]
  },
  {
   "cell_type": "code",
   "execution_count": 3,
   "metadata": {
    "collapsed": false
   },
   "outputs": [
    {
     "name": "stdout",
     "output_type": "stream",
     "text": [
      "Empty List\n"
     ]
    }
   ],
   "source": [
    "newlist = LinkedList()\n",
    "newlist.traverse()"
   ]
  },
  {
   "cell_type": "markdown",
   "metadata": {},
   "source": [
    "Initialize a linked list with 10 items. For this simple case, let it store data values from 0-9 in order. Then, traverse the list and print it. "
   ]
  },
  {
   "cell_type": "code",
   "execution_count": 4,
   "metadata": {
    "collapsed": false
   },
   "outputs": [
    {
     "name": "stdout",
     "output_type": "stream",
     "text": [
      "this is our initialized list with 10 items:\n",
      "0, 1, 2, 3, 4, 5, 6, 7, 8, 9\n"
     ]
    }
   ],
   "source": [
    "for i in range(10):\n",
    "    newlist.addToTail(i)\n",
    "print(\"this is our initialized list with 10 items:\")\n",
    "newlist.traverse()"
   ]
  },
  {
   "cell_type": "markdown",
   "metadata": {},
   "source": [
    "Try adding and deleting items from list"
   ]
  },
  {
   "cell_type": "code",
   "execution_count": 5,
   "metadata": {
    "collapsed": false
   },
   "outputs": [
    {
     "name": "stdout",
     "output_type": "stream",
     "text": [
      "add item 'head' after the first item:\n",
      "0, head, 1, 2, 3, 4, 5, 6, 7, 8, 9\n",
      "\n",
      "\n",
      "add item 'tail' after last item:\n",
      "0, head, 1, 2, 3, 4, 5, 6, 7, 8, 9, tail\n",
      "\n",
      "\n",
      "add item after an item with key 5:\n",
      "0, head, 1, 2, 3, 4, 5, insert_after_5, 6, 7, 8, 9, tail\n",
      "\n",
      "\n",
      "add item after an item with key 10: (should result in error)\n",
      "Key 10 not found\n",
      "\n",
      "delete item with key 4:\n",
      "0, head, 1, 2, 3, 5, insert_after_5, 6, 7, 8, 9, tail\n",
      "\n",
      "\n",
      "delete item with key 11: (should result in error)\n",
      "Key 11 not found\n",
      "\n",
      "\n",
      "Deep copy of newlist into copylist. To test this, make the deep copy copylist. \n",
      "Then, add an item to newlist. This new item SHOULD NOT appear in copylist.\n",
      "\n",
      "copylist before adding new item to newlist: \n",
      "0, head, 1, 2, 3, 5, insert_after_5, 6, 7, 8, 9, tail\n",
      "\n",
      "\n",
      "newlist after adding new item to newlist:\n",
      "0, head, 1, 2, 3, 5, insert_after_5, 6, 7, 8, 9, tail, new_item_not_in_copylist\n",
      "\n",
      "\n",
      "copylist after adding new item to newlist:\n",
      "0, head, 1, 2, 3, 5, insert_after_5, 6, 7, 8, 9, tail\n",
      "\n",
      "\n",
      "reverse the list\n",
      "new_item_not_in_copylist, tail, 9, 8, 7, 6, insert_after_5, 5, 3, 2, 1, head, 0\n"
     ]
    }
   ],
   "source": [
    "print(\"add item 'head' after the first item:\")\n",
    "newlist.addToHead('head')\n",
    "newlist.traverse()\n",
    "\n",
    "print(\"\\n\\nadd item 'tail' after last item:\")\n",
    "newlist.addToTail('tail')\n",
    "newlist.traverse()\n",
    "\n",
    "print(\"\\n\\nadd item after an item with key 5:\")\n",
    "newlist.addAfterNode('insert_after_5', 5)\n",
    "newlist.traverse()\n",
    "\n",
    "print(\"\\n\\nadd item after an item with key 10: (should result in error)\")\n",
    "newlist.addAfterNode('insert after 10', 10)\n",
    "\n",
    "print(\"\\ndelete item with key 4:\")\n",
    "newlist.deleteNode(4)\n",
    "newlist.traverse()\n",
    "\n",
    "print(\"\\n\\ndelete item with key 11: (should result in error)\")\n",
    "newlist.deleteNode(11)\n",
    "\n",
    "print(\"\\n\\nDeep copy of newlist into copylist. To test this, make the deep copy copylist. \\nThen, add an item to newlist. This new item SHOULD NOT appear in copylist.\")\n",
    "\n",
    "copylist = newlist.deepCopy()\n",
    "print(\"\\ncopylist before adding new item to newlist: \")\n",
    "copylist.traverse()\n",
    "\n",
    "print(\"\\n\\nnewlist after adding new item to newlist:\")\n",
    "newlist.addToTail('new_item_not_in_copylist')\n",
    "newlist.traverse()\n",
    "\n",
    "print(\"\\n\\ncopylist after adding new item to newlist:\")\n",
    "copylist.traverse()\n",
    "\n",
    "print(\"\\n\\nreverse the list\")\n",
    "newlist.reverse()\n",
    "newlist.traverse()\n"
   ]
  }
 ],
 "metadata": {
  "anaconda-cloud": {},
  "kernelspec": {
   "display_name": "Python [Root]",
   "language": "python",
   "name": "Python [Root]"
  },
  "language_info": {
   "codemirror_mode": {
    "name": "ipython",
    "version": 3
   },
   "file_extension": ".py",
   "mimetype": "text/x-python",
   "name": "python",
   "nbconvert_exporter": "python",
   "pygments_lexer": "ipython3",
   "version": "3.5.2"
  }
 },
 "nbformat": 4,
 "nbformat_minor": 2
}
