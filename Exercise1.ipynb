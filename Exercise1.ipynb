{
 "cells": [
  {
   "cell_type": "markdown",
   "metadata": {},
   "source": [
    "### Implementing a singly linked list. \n",
    "\n",
    "Here is an implementation of a singly linked list and prescribed functionalities. First, create a class called Node, which will be used as the building blocks (items) of the linked list. "
   ]
  },
  {
   "cell_type": "code",
   "execution_count": null,
   "metadata": {
    "collapsed": true
   },
   "outputs": [],
   "source": [
    "class Node():\n",
    "    def __init__(self, data):\n",
    "        self.data = data\n",
    "        self.next = None"
   ]
  },
  {
   "cell_type": "markdown",
   "metadata": {},
   "source": [
    "Implement the Linkedlist class using the Node class. (Note: only the addToTail and addToHead functions use the Node class)"
   ]
  },
  {
   "cell_type": "code",
   "execution_count": 123,
   "metadata": {
    "collapsed": false
   },
   "outputs": [],
   "source": [
    "class LinkedList():\n",
    "    def __init__(self):\n",
    "        self.head = None\n",
    "\n",
    "    def addToTail(self, data):\n",
    "        '''\n",
    "        This should add a node right after the last node\n",
    "        '''\n",
    "        newNode = Node(data)        \n",
    "        if self.head is None:\n",
    "            self.head = newNode\n",
    "        else:\n",
    "            currNode = self.head\n",
    "            while currNode.next:\n",
    "                currNode = currNode.next\n",
    "            currNode.next = newNode\n",
    "\n",
    "    def addToHead(self, data):\n",
    "        '''\n",
    "        This should add a node right after the head\n",
    "        '''\n",
    "        newNode = Node(data)\n",
    "        if self.head is None:\n",
    "            self.head = newNode\n",
    "        else:\n",
    "            tmpNode = self.head.next\n",
    "            self.head.next = newNode\n",
    "            newNode.next = tmpNode\n",
    "            \n",
    "    def traverse(self):\n",
    "        '''\n",
    "        This should print out the list starting from the head\n",
    "        '''\n",
    "        if self.head is None: \n",
    "            print('Empty List')\n",
    "        else:\n",
    "            currNode = self.head\n",
    "            while currNode:\n",
    "                print(currNode.data)\n",
    "                currNode = currNode.next\n",
    "\n",
    "    def addAfterNode(self, data, key):\n",
    "        '''\n",
    "        This should add a node after the node in the list with a \n",
    "        specified key (data attribute)\n",
    "        '''\n",
    "        newNode = Node(data)\n",
    "        if self.head is None:\n",
    "            print('Empty List')\n",
    "        else:\n",
    "            currNode = self.head\n",
    "            while currNode:\n",
    "                if currNode.data == key:\n",
    "                    tmpNode = currNode.next\n",
    "                    currNode.next = newNode\n",
    "                    newNode.next = tmpNode\n",
    "                    return\n",
    "                else:\n",
    "                    currNode = currNode.next\n",
    "            print('Key not found')\n",
    "            \n",
    "    def deleteNode(self, key):\n",
    "        '''\n",
    "        This should delete the node with specified key (data attribute)\n",
    "        '''\n",
    "        if self.head is None:\n",
    "            print('Empty List')\n",
    "        elif self.head.data == key:\n",
    "            self.head = self.head.next\n",
    "        else:\n",
    "            currNode = self.head\n",
    "            while currNode.next:\n",
    "                if currNode.next.data == key:\n",
    "                    currNode.next = currNode.next.next\n",
    "                    return\n",
    "                else:\n",
    "                    currNode = currNode.next\n",
    "            print('Key not found')\n",
    "    \n",
    "    def deepCopy(self):\n",
    "        '''\n",
    "        This is an implementation of a deep copy of the linked list\n",
    "        '''\n",
    "        newList = LinkedList()\n",
    "        if self.head:\n",
    "            currNode = self.head\n",
    "            while currNode:\n",
    "                newList.addToTail(currNode.data)\n",
    "                currNode = currNode.next\n",
    "        return newList\n",
    "    \n",
    "    def reverse(self):\n",
    "        '''\n",
    "        This should reverse the linked list (in place)\n",
    "        '''\n",
    "        if self.head:\n",
    "            currNode = None\n",
    "            nextNode = self.head\n",
    "            while nextNode:\n",
    "                tmpNode = nextNode.next\n",
    "                nextNode.next = currNode\n",
    "                currNode = nextNode\n",
    "                nextNode = tmpNode\n",
    "        self.head = currNode\n",
    "        "
   ]
  },
  {
   "cell_type": "markdown",
   "metadata": {},
   "source": [
    "### Testing functionalities\n",
    "\n",
    "Initialize an empty linked list. Call the traverse function, which should print out empty. "
   ]
  },
  {
   "cell_type": "code",
   "execution_count": 134,
   "metadata": {
    "collapsed": false
   },
   "outputs": [
    {
     "name": "stdout",
     "output_type": "stream",
     "text": [
      "Empty List\n"
     ]
    }
   ],
   "source": [
    "newlist = LinkedList()\n",
    "newlist.traverse()"
   ]
  },
  {
   "cell_type": "markdown",
   "metadata": {},
   "source": [
    "Initialize a linked list with 10 items. For this simple case, let it store data values from 0-9 in order. Then, traverse the list and print it. "
   ]
  },
  {
   "cell_type": "code",
   "execution_count": 135,
   "metadata": {
    "collapsed": false
   },
   "outputs": [
    {
     "name": "stdout",
     "output_type": "stream",
     "text": [
      "0\n",
      "1\n",
      "2\n",
      "3\n",
      "4\n",
      "5\n",
      "6\n",
      "7\n",
      "8\n",
      "9\n"
     ]
    }
   ],
   "source": [
    "for i in range(10):\n",
    "    newlist.addToTail(i)\n",
    "\n",
    "newlist.traverse()"
   ]
  },
  {
   "cell_type": "markdown",
   "metadata": {},
   "source": [
    "Add an item to the head of the list (a.k.a after the first node)"
   ]
  },
  {
   "cell_type": "code",
   "execution_count": 138,
   "metadata": {
    "collapsed": false
   },
   "outputs": [
    {
     "name": "stdout",
     "output_type": "stream",
     "text": [
      "0\n",
      "head\n",
      "head\n",
      "1\n",
      "2\n",
      "3\n",
      "4\n",
      "5\n",
      "6\n",
      "7\n",
      "8\n",
      "9\n"
     ]
    }
   ],
   "source": [
    "newlist.addToHead('head')\n",
    "newlist.traverse()"
   ]
  },
  {
   "cell_type": "markdown",
   "metadata": {},
   "source": [
    "Add an item to the tail of the list"
   ]
  },
  {
   "cell_type": "code",
   "execution_count": 139,
   "metadata": {
    "collapsed": false
   },
   "outputs": [
    {
     "name": "stdout",
     "output_type": "stream",
     "text": [
      "0\n",
      "head\n",
      "head\n",
      "1\n",
      "2\n",
      "3\n",
      "4\n",
      "5\n",
      "6\n",
      "7\n",
      "8\n",
      "9\n",
      "tail\n"
     ]
    }
   ],
   "source": [
    "newlist.addToTail('tail')\n",
    "newlist.traverse()"
   ]
  },
  {
   "cell_type": "markdown",
   "metadata": {},
   "source": [
    "Add an itto a node with key 5. Trying to add an item to a node with key 10 will result in error. "
   ]
  },
  {
   "cell_type": "code",
   "execution_count": null,
   "metadata": {
    "collapsed": true
   },
   "outputs": [],
   "source": [
    "newlist.addAfterNode()"
   ]
  },
  {
   "cell_type": "code",
   "execution_count": 128,
   "metadata": {
    "collapsed": false
   },
   "outputs": [
    {
     "name": "stdout",
     "output_type": "stream",
     "text": [
      "0\n",
      "1234\n",
      "1\n",
      "2\n",
      "3\n",
      "4\n",
      "5\n",
      "6\n",
      "7\n",
      "8\n",
      "9\n",
      "123456\n"
     ]
    }
   ],
   "source": [
    "newlist.addAfterNode(123456, 9)\n",
    "newlist.traverse()"
   ]
  },
  {
   "cell_type": "code",
   "execution_count": 129,
   "metadata": {
    "collapsed": false
   },
   "outputs": [
    {
     "name": "stdout",
     "output_type": "stream",
     "text": [
      "0\n",
      "1234\n",
      "1\n",
      "2\n",
      "3\n",
      "4\n",
      "5\n",
      "6\n",
      "7\n",
      "8\n",
      "9\n"
     ]
    }
   ],
   "source": [
    "newlist.deleteNode(123456)\n",
    "newlist.traverse()"
   ]
  },
  {
   "cell_type": "code",
   "execution_count": 130,
   "metadata": {
    "collapsed": false
   },
   "outputs": [
    {
     "name": "stdout",
     "output_type": "stream",
     "text": [
      "9\n",
      "8\n",
      "7\n",
      "6\n",
      "5\n",
      "4\n",
      "3\n",
      "2\n",
      "1\n",
      "1234\n",
      "0\n"
     ]
    }
   ],
   "source": [
    "newlist.reverse()\n",
    "newlist.traverse()"
   ]
  },
  {
   "cell_type": "code",
   "execution_count": null,
   "metadata": {
    "collapsed": true
   },
   "outputs": [],
   "source": []
  }
 ],
 "metadata": {
  "anaconda-cloud": {},
  "kernelspec": {
   "display_name": "Python [Root]",
   "language": "python",
   "name": "Python [Root]"
  },
  "language_info": {
   "codemirror_mode": {
    "name": "ipython",
    "version": 3
   },
   "file_extension": ".py",
   "mimetype": "text/x-python",
   "name": "python",
   "nbconvert_exporter": "python",
   "pygments_lexer": "ipython3",
   "version": "3.5.2"
  }
 },
 "nbformat": 4,
 "nbformat_minor": 2
}
