{
 "cells": [
  {
   "cell_type": "markdown",
   "metadata": {},
   "source": [
    "# Exercise 2\n",
    "\n",
    "### Part 1. Implementing a merkle tree"
   ]
  },
  {
   "cell_type": "markdown",
   "metadata": {},
   "source": [
    "The general algo I think is to just split data blocks into adjacent pairs, apply hash, make a new block labeled with concat of two hashes which is child blocks point to, repeat until you don't have pairs. "
   ]
  },
  {
   "cell_type": "code",
   "execution_count": 37,
   "metadata": {
    "collapsed": true
   },
   "outputs": [],
   "source": [
    "data = [b\"Four score and seven years ago\", b\"our fathers brought forth\",\n",
    "        b\"on this continent\", b\"a new nation\", b\"conceived in Liberty\", \n",
    "        b\"and dedicated\", b\"to the proposition that\", b\"all men are created equal\",\n",
    "       b\"that this nation\", b\"under God\", b\"shall have a new birth of freedom\",\n",
    "        b\"and that government\", b\"of the people\", b\"by the people\", b\"for the people\", \n",
    "        b\"shall not perish from the earth\"]\n"
   ]
  },
  {
   "cell_type": "code",
   "execution_count": 38,
   "metadata": {
    "collapsed": false
   },
   "outputs": [],
   "source": [
    "from hashlib import sha256\n",
    "sha_compute = sha256()"
   ]
  },
  {
   "cell_type": "code",
   "execution_count": 39,
   "metadata": {
    "collapsed": true
   },
   "outputs": [],
   "source": [
    "class Node():\n",
    "    def __init__(self, label):\n",
    "        self.label = label\n",
    "        self.leftChild = None\n",
    "        self.rightChild = None\n",
    "        self.parent = None"
   ]
  },
  {
   "cell_type": "code",
   "execution_count": 40,
   "metadata": {
    "collapsed": false
   },
   "outputs": [
    {
     "name": "stdout",
     "output_type": "stream",
     "text": [
      "sha256 has : b',\\xf2M\\xba_\\xb0\\xa3\\x0e&\\xe8;*\\xc5\\xb9\\xe2\\x9e\\x1b\\x16\\x1e\\\\\\x1f\\xa7B^s\\x043b\\x93\\x8b\\x98$'\n"
     ]
    }
   ],
   "source": [
    "sha_compute.update(b'hello')\n",
    "print(\"sha256 has :\", sha_compute.digest() )"
   ]
  },
  {
   "cell_type": "code",
   "execution_count": 54,
   "metadata": {
    "collapsed": true
   },
   "outputs": [],
   "source": [
    "class MerkleTree():\n",
    "    def __init__(self, data):\n",
    "        self.data = data\n",
    "        self.root = None\n",
    "        self.nodes = []\n",
    "#         self.leaves = []\n",
    "\n",
    "    def createLeaves(self):\n",
    "        firstLevel = []\n",
    "        for block in data:\n",
    "            sha_compute.update(block)\n",
    "            print( sha_compute.digest() )\n",
    "            newNode = Node(sha_compute.digest())\n",
    "            firstLevel.append(newNode)\n",
    "        self.nodes.append(firstLevel)\n",
    "        \n",
    "    def createNodes(self):\n",
    "        \n",
    "    def createTree(self):\n",
    "        currLevel = self.leaves\n",
    "        nextLevel = []\n",
    "        while currLevel:\n",
    "            # get pairs of adjacent blocks (1+2, 3+4, ...)\n",
    "            pairs = [x+y for (x,y) in list(zip(currLevel[::2],currLevel[1::2]))]\n",
    "            for pair in pairs:\n",
    "                sha_compute.update(pair)\n",
    "                "
   ]
  },
  {
   "cell_type": "code",
   "execution_count": 48,
   "metadata": {
    "collapsed": false
   },
   "outputs": [
    {
     "name": "stdout",
     "output_type": "stream",
     "text": [
      "b'\\x9b;\\x0f\\xd8u\\x08\\x86\\xdeJ21J\\x82\\xc9\\x1f\\x02\\x11\\xf68\\xc0\\xd8\\xfdp\\x9c.W\\x01\\xbd7\\xb6\\xff\\xf7'\n",
      "b'\\\\\\x05\"su\\xe2\\xb8/\\xa9.D\\x16\\xaf\\\\CZ\\x16(\\xb3r\\xd0\\xd6\\x84\\xa4\\xb3\\xd1\\x9e\\xcen\\xc6\\xfb\\x02'\n",
      "b'\\xd1[l%-\\xca\\x1e\\x83w\\xbe\\xf1\\xf9Pn\\xc8\\n\\xddN\\xb89\\xc6\\xf1\\x9a}\\xa0up\\xc8\\xf5\\x9f\\x8e\\xe0'\n",
      "b'\\xe0U\\xa4\\xc2\\x02\\xad\\x84\\x92HP0\\xe6\\xac\\x94\\xfc\\xedU\\xb0C\\xb6hK\\xc8&\\xec^8\\xa3\\x17\\x14\\x88\\xae'\n",
      "b'St\\xb6\\\\>\\x1c\\xc5\\xd9\\xe7S\\xc7x\\x0c@w\\x94J\\xca\\xceSp\\xbf\\xff\\xdc7!\\xd0,H\\x1a\\xcc\\xe5'\n",
      "b'ClK\\xdf\\x12\\xe1\\x11d4\\xdc\\x9f\\xf1w\\xc8D\\xce\\xe4n{\\xc1\\x04\\xc8\\xa9\\x0fI\\xef\\xed(\\xa0di\\x7f'\n",
      "b'\\x14\\n*\\x94 \\xb8\\xdd\\x8d\\xc3\\x17\\x15VV\\x9e\\xbcd\\x10\\xcc\\xd5\\xc4\\xc2SA\\xc9\\xd2\\xaab\\x0c\\xb8+^\\xaa'\n",
      "b'^\\x8d\\x93\\xf6\\x15\\x0f\\xdfb}\\xbb\\xd5\\x9c>\\x8a0^\\x87\\xb4\\x97/L1\\xd1#|\\xb9\\xe0<\\x8dx8\\xfd'\n",
      "b'\\xfd>\\xfa\\x89\\xaf\\xff\\xf1\\xd3Nyg\\x1f)(?\\xd6\\x00 x\\xe7J\\x98\\xdf\\xc2\\x8fp\\xd6o\\xfb\\xde]\\x1c'\n",
      "b'\\xb5p\\x18@?\\xb7\\xeaae\\x0f\\x1d1\\xa2\\xcf\\x86\\xb9Q#\\xf2\\xe8\\xeayjK\\xf1+\\x00\\xc7\\x1b\\xe48]'\n",
      "b'\\xd7\\x1e}\\xa0\\xde\\x94\\xfc\\x9bO\\x9b\\xce\\xd5\\xe9\\x91,-\\xdf\\tr\\xbc\\x06\\x0e6g\\n\\x99\\xa5\\xe9\\xda\\x96\\x99\\x9f'\n",
      "b'~\\xc4\\x0e\\x9b\\x18\\x90\\x1b\\xd9\\xe6\\xc4]\\x92\\xf8\\x07K7\\x8bft\\xab\\x94\\x97\\x11/\\xe2\\xf9\\xb8\\xf3d\\x93p\\xea'\n",
      "b'\\xacJ\\n\\xabT\\xe4\\xa2\\x95\\xe7e\\xc1p\\x99\\xf2V\\xacD\\xd3\\x13\\x17\\x81\\xf6\\xba8\\x84Q\\xa1\\xe3<\\xfc\\x9a\\xb1'\n",
      "b'\\xdc~\\x82\\x7f\\xe7\\xb6\\xa6\\xf9\\xb1q[[\\x14\\xf3}\\xda7t/\\x8eV(\\x82\\xe7\\xb5\"\\x8c\\x8f\\xc8\\xb55W'\n",
      "b'a\\xa6\\xf2\\x906&6vM\\x83\\xcd\\xa65b2\\xba+A\\xe5#3Y\\x83\\x05\\xe9z\\x08\\xc4\\xa9\\x02\\\\\\x07'\n",
      "b'\\xbb,\\xf1\\x8b\\xdc\\xf5\\nXw\\xab=\\xa7\\x96\\xfaOoB\\xc4\\xec\\xb3\\xb3\\x97\\xc2\\xa4\\x1e\\xd4[LE=\\xd7;'\n"
     ]
    },
    {
     "data": {
      "text/plain": [
       "[<__main__.Node at 0x1cd7ee67fd0>,\n",
       " <__main__.Node at 0x1cd7ee67e48>,\n",
       " <__main__.Node at 0x1cd7ee67dd8>,\n",
       " <__main__.Node at 0x1cd7ee67ef0>,\n",
       " <__main__.Node at 0x1cd7edad9b0>,\n",
       " <__main__.Node at 0x1cd7edad5f8>,\n",
       " <__main__.Node at 0x1cd7edada58>,\n",
       " <__main__.Node at 0x1cd7edada20>,\n",
       " <__main__.Node at 0x1cd7ee35780>,\n",
       " <__main__.Node at 0x1cd7ee35080>,\n",
       " <__main__.Node at 0x1cd7ee355c0>,\n",
       " <__main__.Node at 0x1cd7ee35e10>,\n",
       " <__main__.Node at 0x1cd7ee351d0>,\n",
       " <__main__.Node at 0x1cd7ee357f0>,\n",
       " <__main__.Node at 0x1cd7ee35da0>,\n",
       " <__main__.Node at 0x1cd7ee35ac8>]"
      ]
     },
     "execution_count": 48,
     "metadata": {},
     "output_type": "execute_result"
    }
   ],
   "source": [
    "test = MerkleTree(data)\n",
    "test.createLeaves()\n",
    "test.leaves"
   ]
  },
  {
   "cell_type": "code",
   "execution_count": 53,
   "metadata": {
    "collapsed": false
   },
   "outputs": [
    {
     "data": {
      "text/plain": [
       "['ab', 'cd', 'ef']"
      ]
     },
     "execution_count": 53,
     "metadata": {},
     "output_type": "execute_result"
    }
   ],
   "source": [
    "array = ['a','b','c','d','e','f']\n",
    "shit = list(zip(array[::2],array[1::2]))\n",
    "[x+y for (x,y) in shit]"
   ]
  },
  {
   "cell_type": "code",
   "execution_count": null,
   "metadata": {
    "collapsed": true
   },
   "outputs": [],
   "source": []
  }
 ],
 "metadata": {
  "anaconda-cloud": {},
  "kernelspec": {
   "display_name": "Python [Root]",
   "language": "python",
   "name": "Python [Root]"
  },
  "language_info": {
   "codemirror_mode": {
    "name": "ipython",
    "version": 3
   },
   "file_extension": ".py",
   "mimetype": "text/x-python",
   "name": "python",
   "nbconvert_exporter": "python",
   "pygments_lexer": "ipython3",
   "version": "3.5.2"
  }
 },
 "nbformat": 4,
 "nbformat_minor": 2
}
