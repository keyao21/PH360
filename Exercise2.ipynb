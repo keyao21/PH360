{
 "cells": [
  {
   "cell_type": "markdown",
   "metadata": {},
   "source": [
    "# Exercise 2\n",
    "\n",
    "### Part 1. Implementing a merkle tree"
   ]
  },
  {
   "cell_type": "markdown",
   "metadata": {},
   "source": [
    "The general algorithm, I think, is to just split data blocks into adjacent pairs, hash them separately and create a hashpointer from each to a new node in the level above labeled with the hash of the concatenation of the two original hashes, then repeat until you don't have pairs on any levels without parents. "
   ]
  },
  {
   "cell_type": "code",
   "execution_count": 1,
   "metadata": {
    "collapsed": false
   },
   "outputs": [],
   "source": [
    "from hashlib import sha256\n",
    "import math"
   ]
  },
  {
   "cell_type": "code",
   "execution_count": 2,
   "metadata": {
    "collapsed": true
   },
   "outputs": [],
   "source": [
    "class Node():\n",
    "    def __init__(self, data):\n",
    "        self.data = data\n",
    "        self.leftChild = None\n",
    "        self.rightChild = None\n",
    "        self.parent = None"
   ]
  },
  {
   "cell_type": "code",
   "execution_count": 3,
   "metadata": {
    "collapsed": false
   },
   "outputs": [],
   "source": [
    "class MerkleTree():\n",
    "    def __init__(self, data, **kwargs):\n",
    "        self.data = data\n",
    "        self.testFlag = kwargs['testFlag'] if 'testFlag' in kwargs else False\n",
    "        self.createTree()\n",
    "        \n",
    "    def hashFunction(self, datainput):\n",
    "        if self.testFlag:\n",
    "            return 'H({})'.format(datainput)\n",
    "        else:\n",
    "            sha_compute = sha256()\n",
    "            sha_compute.update(datainput)\n",
    "            return sha_compute.digest()\n",
    "\n",
    "    def createTree(self):\n",
    "        self.sorted_root = None\n",
    "        self.root = None\n",
    "        self.sorted_nodes = []\n",
    "        self.nodes = []\n",
    "        \n",
    "        def createLeaves():\n",
    "            # TODO: I am assuming even number of input blocks, but generally not the case\n",
    "            firstLevel, firstLevel_sorted = [], []\n",
    "            for block in data:\n",
    "                newNode = Node(self.hashFunction(block))\n",
    "                firstLevel.append(newNode)\n",
    "            self.nodes.append(firstLevel)\n",
    "            for block in sorted(data):\n",
    "                newNode = Node(self.hashFunction(block))\n",
    "                firstLevel_sorted.append(newNode)\n",
    "            self.sorted_nodes.append(firstLevel_sorted)\n",
    "    \n",
    "        def createUnsortedTree():\n",
    "            '''\n",
    "            Note: this outputs a tree in the same way as createTree(), except we sort the data blocks beforehand. \n",
    "            '''\n",
    "            currLevel = 0\n",
    "            while len(self.nodes[currLevel]) > 1:\n",
    "                self.nodes.append([])\n",
    "                # get pairs of adjacent blocks (1+2, 3+4, ...)\n",
    "                pairs = [x.data+y.data for (x,y) in list(zip(self.nodes[currLevel][::2],self.nodes[currLevel][1::2]))]\n",
    "                count = 0\n",
    "                for pair in pairs:\n",
    "                    newNode = Node( self.hashFunction(pair) )\n",
    "                    newNode.leftChild = self.nodes[currLevel][count]\n",
    "                    newNode.rightChild = self.nodes[currLevel][count+1]\n",
    "                    self.nodes[currLevel+1].append(newNode)\n",
    "                    self.nodes[currLevel][count].parent = self.nodes[currLevel+1][-1] \n",
    "                    self.nodes[currLevel][count+1].parent = self.nodes[currLevel+1][-1]\n",
    "                    count += 2\n",
    "                currLevel += 1\n",
    "            self.root = self.nodes[-1][0]\n",
    "\n",
    "        def createSortedTree():\n",
    "            currLevel = 0\n",
    "            while len(self.sorted_nodes[currLevel]) > 1:\n",
    "                self.sorted_nodes.append([])\n",
    "                # get pairs of adjacent blocks (1+2, 3+4, ...)\n",
    "                pairs = [x.data+y.data for (x,y) in list(zip(self.sorted_nodes[currLevel][::2],self.sorted_nodes[currLevel][1::2]))]\n",
    "                count = 0\n",
    "                for pair in pairs:\n",
    "                    newNode = Node( self.hashFunction(pair) )\n",
    "                    newNode.leftChild = self.sorted_nodes[currLevel][count]\n",
    "                    newNode.rightChild = self.sorted_nodes[currLevel][count+1]\n",
    "                    self.sorted_nodes[currLevel+1].append(newNode)\n",
    "                    self.sorted_nodes[currLevel][count].parent = self.sorted_nodes[currLevel+1][-1] \n",
    "                    self.sorted_nodes[currLevel][count+1].parent = self.sorted_nodes[currLevel+1][-1]\n",
    "                    count += 2\n",
    "                currLevel += 1\n",
    "            self.sorted_root = self.sorted_nodes[currLevel][0]\n",
    "        \n",
    "        createLeaves()\n",
    "        createUnsortedTree()\n",
    "        createSortedTree()\n",
    "    \n",
    "    def verifyBlock(self, datablock, pos):\n",
    "        num_blocks = len(self.data)\n",
    "        level = int(math.log(num_blocks)/math.log(2))\n",
    "        my_data = datablock\n",
    "        prevNode = 0\n",
    "        def getRoot(level, prevNode, minleaf=0, maxleaf=float(num_blocks-1)):\n",
    "            if level == 0:\n",
    "                return my_data\n",
    "            midpoint = minleaf+(maxleaf-minleaf)/2\n",
    "            if pos >= midpoint:\n",
    "                minleaf += (maxleaf-minleaf+1)/2\n",
    "                return (test.nodes[level-1][prevNode*2].data + self.hashFunction(getRoot(level-1,prevNode*2+1,minleaf, maxleaf)))\n",
    "            elif pos < midpoint:\n",
    "                maxleaf -= (maxleaf-minleaf+1)/2\n",
    "                return (self.hashFunction(getRoot(level-1,prevNode*2,minleaf, maxleaf)) + test.nodes[level-1][prevNode*2+1].data)\n",
    "        \n",
    "        print('Expected root: {}'.format(self.root.data))\n",
    "        print('Calculated root: {}'.format(self.hashFunction(getRoot(level, prevNode))))\n",
    "        return self.root.data == self.hashFunction(getRoot(level, prevNode))\n",
    "\n",
    "    "
   ]
  },
  {
   "cell_type": "markdown",
   "metadata": {},
   "source": [
    "### Testing Functionalities"
   ]
  },
  {
   "cell_type": "markdown",
   "metadata": {},
   "source": [
    "#### First we will demonstrate the usability of the merkle tree class based on this set of data blocks."
   ]
  },
  {
   "cell_type": "code",
   "execution_count": 4,
   "metadata": {
    "collapsed": true
   },
   "outputs": [],
   "source": [
    "data = [b'four score and seven years ago', b\"our fathers brought forth\",\n",
    "        b\"on this continent\", b\"a new nation\", b\"conceived in Liberty\", \n",
    "        b\"and dedicated\", b\"to the proposition that\", b\"all men are created equal\",\n",
    "       b\"that this nation\", b\"under God\", b\"shall have a new birth of freedom\",\n",
    "        b\"and that government\", b\"of the people\", b\"by the people\", b\"for the people\", \n",
    "        b\"shall not perish from the earth\"]\n"
   ]
  },
  {
   "cell_type": "code",
   "execution_count": 5,
   "metadata": {
    "collapsed": false
   },
   "outputs": [
    {
     "data": {
      "text/plain": [
       "[[<__main__.Node at 0x21b97934400>,\n",
       "  <__main__.Node at 0x21b979346d8>,\n",
       "  <__main__.Node at 0x21b97934588>,\n",
       "  <__main__.Node at 0x21b97934630>,\n",
       "  <__main__.Node at 0x21b97934668>,\n",
       "  <__main__.Node at 0x21b97934710>,\n",
       "  <__main__.Node at 0x21b979345f8>,\n",
       "  <__main__.Node at 0x21b979345c0>,\n",
       "  <__main__.Node at 0x21b97934748>,\n",
       "  <__main__.Node at 0x21b97934780>,\n",
       "  <__main__.Node at 0x21b979347b8>,\n",
       "  <__main__.Node at 0x21b97934908>,\n",
       "  <__main__.Node at 0x21b97934940>,\n",
       "  <__main__.Node at 0x21b97934978>,\n",
       "  <__main__.Node at 0x21b979349b0>,\n",
       "  <__main__.Node at 0x21b979347f0>],\n",
       " [<__main__.Node at 0x21b97934c88>,\n",
       "  <__main__.Node at 0x21b97934cc0>,\n",
       "  <__main__.Node at 0x21b97934e10>,\n",
       "  <__main__.Node at 0x21b97934e48>,\n",
       "  <__main__.Node at 0x21b97934cf8>,\n",
       "  <__main__.Node at 0x21b97934da0>,\n",
       "  <__main__.Node at 0x21b97934dd8>,\n",
       "  <__main__.Node at 0x21b97934d30>],\n",
       " [<__main__.Node at 0x21b97934d68>,\n",
       "  <__main__.Node at 0x21b97934e80>,\n",
       "  <__main__.Node at 0x21b97934eb8>,\n",
       "  <__main__.Node at 0x21b97934f60>],\n",
       " [<__main__.Node at 0x21b97934f98>, <__main__.Node at 0x21b97934fd0>],\n",
       " [<__main__.Node at 0x21b97934ef0>]]"
      ]
     },
     "execution_count": 5,
     "metadata": {},
     "output_type": "execute_result"
    }
   ],
   "source": [
    "test = MerkleTree(data)\n",
    "test.nodes"
   ]
  },
  {
   "cell_type": "markdown",
   "metadata": {},
   "source": [
    "As shown, the data is used to create a merkle tree. The set of nodes created are stored in the MerkleTree object as an attribute called nodes, representing the \"server knowledge\", which grants validation users quick access to nodes. The nodes are stored in the form of an array, where the test.nodes[0] represents the lowest level (a.k.a hash of data blocks), and test.nodes[-1] represents the highest level (a.k.a root of the merkle tree).\n",
    "\n",
    "In this case, access to node information is constant time O(1), but takes log space O(logn), where n is the number of nodes. (Note: set of nodes does not include data blocks, but it DOES include the hash of the data blocks! This is the whole point of a merkle tree) "
   ]
  },
  {
   "cell_type": "markdown",
   "metadata": {},
   "source": [
    "#### Given a set of data blocks, we will check if certain data blocks are in the merkle tree at certain positions\n",
    "\n",
    "For proof of concept, we will not using an actual hash function for this demo, but instead be visualizing the hashing operation as H(). In the next cell, we will perform the same operations with an hash function. "
   ]
  },
  {
   "cell_type": "code",
   "execution_count": 6,
   "metadata": {
    "collapsed": false
   },
   "outputs": [
    {
     "name": "stdout",
     "output_type": "stream",
     "text": [
      "Expected root: H(H(H(b'0')H(b'1'))H(H(b'2')H(b'3')))\n",
      "Calculated root: H(H(H(b'0')H(b'1'))H(H(b'3')H(b'3')))\n",
      "False\n",
      "\n",
      "Expected root: H(H(H(b'0')H(b'1'))H(H(b'2')H(b'3')))\n",
      "Calculated root: H(H(H(b'0')H(b'4'))H(H(b'2')H(b'3')))\n",
      "False\n",
      "\n",
      "Expected root: H(H(H(b'0')H(b'1'))H(H(b'2')H(b'3')))\n",
      "Calculated root: H(H(H(b'0')H(b'1'))H(H(b'2')H(b'3')))\n",
      "True\n"
     ]
    }
   ],
   "source": [
    "data = [b'0',b'1',b'2',b'3']\n",
    "test = MerkleTree(data, testFlag=True)\n",
    "print( test.verifyBlock(b'3', 2) )\n",
    "print()\n",
    "print( test.verifyBlock(b'4', 1) )\n",
    "print()\n",
    "print( test.verifyBlock(b'1', 1) )\n"
   ]
  },
  {
   "cell_type": "code",
   "execution_count": 7,
   "metadata": {
    "collapsed": false
   },
   "outputs": [
    {
     "name": "stdout",
     "output_type": "stream",
     "text": [
      "Expected root: b'\\xc4x\\xfe\\xad\\x0c\\x89\\xb7\\x95@c\\x8f\\x84L\\x88\\x19\\xd9\\xa4(\\x17c\\xaf\\x92r\\xc7\\xf3\\x96\\x87v\\xb6\\x05#E'\n",
      "Calculated root: b'\\xc4\\xddG\\xac)_u\\r\\xbe#\\x89g\\xc5\\x83\\x18c\\xa0\\xea\\xfe\\xa9\\x92\\x1e\\xd4V\\x1c\\xdc\\x0b\\tv9\\xdd\\xcf'\n",
      "False\n",
      "\n",
      "Expected root: b'\\xc4x\\xfe\\xad\\x0c\\x89\\xb7\\x95@c\\x8f\\x84L\\x88\\x19\\xd9\\xa4(\\x17c\\xaf\\x92r\\xc7\\xf3\\x96\\x87v\\xb6\\x05#E'\n",
      "Calculated root: b'm\\x11\\xa96\\xc7\\xd0\\xa4\\xe8\\xed\\x9cz\\x98\\x8c\\xd3 \\xd7j\\xc6\\x18M\\xbd\\xbf=\\x0fZ\\x95\\x8e[}wI\\x00'\n",
      "False\n",
      "\n",
      "Expected root: b'\\xc4x\\xfe\\xad\\x0c\\x89\\xb7\\x95@c\\x8f\\x84L\\x88\\x19\\xd9\\xa4(\\x17c\\xaf\\x92r\\xc7\\xf3\\x96\\x87v\\xb6\\x05#E'\n",
      "Calculated root: b'\\xc4x\\xfe\\xad\\x0c\\x89\\xb7\\x95@c\\x8f\\x84L\\x88\\x19\\xd9\\xa4(\\x17c\\xaf\\x92r\\xc7\\xf3\\x96\\x87v\\xb6\\x05#E'\n",
      "True\n"
     ]
    }
   ],
   "source": [
    "data = [b'0',b'1',b'2',b'3']\n",
    "test = MerkleTree(data, testFlag=False)\n",
    "print( test.verifyBlock(b'3', 2) )\n",
    "print()\n",
    "print( test.verifyBlock(b'4', 1) )\n",
    "print()\n",
    "print( test.verifyBlock(b'1', 1) )\n"
   ]
  },
  {
   "cell_type": "code",
   "execution_count": null,
   "metadata": {
    "collapsed": true
   },
   "outputs": [],
   "source": []
  }
 ],
 "metadata": {
  "anaconda-cloud": {},
  "kernelspec": {
   "display_name": "Python [Root]",
   "language": "python",
   "name": "Python [Root]"
  },
  "language_info": {
   "codemirror_mode": {
    "name": "ipython",
    "version": 3
   },
   "file_extension": ".py",
   "mimetype": "text/x-python",
   "name": "python",
   "nbconvert_exporter": "python",
   "pygments_lexer": "ipython3",
   "version": "3.5.2"
  }
 },
 "nbformat": 4,
 "nbformat_minor": 2
}
