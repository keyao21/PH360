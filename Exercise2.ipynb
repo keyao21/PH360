{
 "cells": [
  {
   "cell_type": "markdown",
   "metadata": {},
   "source": [
    "# Exercise 2\n",
    "\n",
    "### Part 1. Implementing a merkle tree"
   ]
  },
  {
   "cell_type": "markdown",
   "metadata": {},
   "source": [
    "The general algo I think is to just split data blocks into adjacent pairs, apply hash, make a new block labeled with concat of two hashes which is child blocks point to, repeat until you don't have pairs. "
   ]
  },
  {
   "cell_type": "code",
   "execution_count": 4,
   "metadata": {
    "collapsed": true
   },
   "outputs": [],
   "source": [
    "data = [b\"Four score and seven years ago\", b\"our fathers brought forth\",\n",
    "        b\"on this continent\", b\"a new nation\", b\"conceived in Liberty\", \n",
    "        b\"and dedicated\", b\"to the proposition that\", b\"all men are created equal\",\n",
    "       b\"that this nation\", b\"under God\", b\"shall have a new birth of freedom\",\n",
    "        b\"and that government\", b\"of the people\", b\"by the people\", b\"for the people\", \n",
    "        b\"shall not perish from the earth\"]\n"
   ]
  },
  {
   "cell_type": "code",
   "execution_count": 5,
   "metadata": {
    "collapsed": false
   },
   "outputs": [],
   "source": [
    "from hashlib import sha256"
   ]
  },
  {
   "cell_type": "code",
   "execution_count": 6,
   "metadata": {
    "collapsed": true
   },
   "outputs": [],
   "source": [
    "class Node():\n",
    "    def __init__(self, data):\n",
    "        self.data = data\n",
    "        self.leftChild = None\n",
    "        self.rightChild = None\n",
    "        self.parent = None"
   ]
  },
  {
   "cell_type": "code",
   "execution_count": 54,
   "metadata": {
    "collapsed": false
   },
   "outputs": [],
   "source": [
    "class MerkleTree():\n",
    "    def __init__(self, data):\n",
    "        self.data = data\n",
    "        self.root = None\n",
    "        self.nodes = []\n",
    "        \n",
    "    def hashFunction(self, datainput):\n",
    "        sha_compute = sha256()\n",
    "        sha_compute.update(datainput)\n",
    "        return sha_compute.digest()\n",
    "    \n",
    "    def createLeaves(self):\n",
    "        # I am assuming even number of input blocks -- we can check for this later\n",
    "        firstLevel = []\n",
    "        for block in data:\n",
    "            print(block)\n",
    "            print( self.hashFunction(block) )\n",
    "            newNode = Node(self.hashFunction(block))\n",
    "            firstLevel.append(newNode)\n",
    "        self.nodes.append(firstLevel)\n",
    "        \n",
    "    def createTree(self):\n",
    "        currLevel = 0\n",
    "        while len(self.nodes[currLevel]) > 1:\n",
    "            self.nodes.append([])\n",
    "            # get pairs of adjacent blocks (1+2, 3+4, ...)\n",
    "            pairs = [x.data+y.data for (x,y) in list(zip(self.nodes[currLevel][::2],self.nodes[currLevel][1::2]))]\n",
    "            count = 0\n",
    "            for pair in pairs:\n",
    "                newNode = Node( self.hashFunction(pair) )\n",
    "                newNode.leftChild = self.nodes[currLevel][count]\n",
    "                newNode.rightChild = self.nodes[currLevel][count+1]\n",
    "                self.nodes[currLevel+1].append(newNode)\n",
    "                self.nodes[currLevel][count].parent = self.nodes[currLevel+1][-1] \n",
    "                self.nodes[currLevel][count+1].parent = self.nodes[currLevel+1][-1]\n",
    "                count += 2\n",
    "            currLevel += 1\n",
    "        self.root = self.nodes[currLevel][0]\n",
    "        \n",
    "    def printTree(self):\n",
    "        pass\n",
    "    \n",
    "    def traverseToRoot(self, datablock):\n",
    "        def findLeaf(datablock):\n",
    "            for leaf in self.nodes[0]:\n",
    "                if self.hashFunction(datablock) == leaf.data:\n",
    "                    return leaf\n",
    "            raise ValueError(\"data block not found\" )\n",
    "        currNode = findLeaf(datablock)\n",
    "        chainofNodes = []\n",
    "        while currNode:\n",
    "            chainofNodes.append(currNode.data)\n",
    "            currNode = currNode.parent\n",
    "#         print(' -> '.join([str(data) for data in chainofNodes]))\n",
    "        return chainofNodes\n",
    "            "
   ]
  },
  {
   "cell_type": "code",
   "execution_count": 55,
   "metadata": {
    "collapsed": false
   },
   "outputs": [
    {
     "name": "stdout",
     "output_type": "stream",
     "text": [
      "b'Four score and seven years ago'\n",
      "b'!7B\\xbdY\\xf1\\xd8\\xfe\\x84\\x8bn\\xa9FG\\xddFS\\x10\\xb8\\xd8\\x16#MZ\\x95-\\xc6E\\xfa2\\x07\\x07'\n",
      "b'our fathers brought forth'\n",
      "b'\\xecQ\\x85\\xdbp\\x19=\\xee\\x9a\\x997\\x8d\\x0b\\xed\\xacU\\xc1\\xfa\\x9b<^\\x11\\xf2\\x91\\xa5z\\xd6\\xae\\xf8\\xd8\\xebQ'\n",
      "b'on this continent'\n",
      "b'\\xa9\\x19\\xe9J<\\x99\\x1b\\xde\\x15\\x9b\\x8e\\x95ON\\xc1h\\x17\\xa8\\xfep\\xberw\\xde=\\x81\\x11\\xaf\\xd6$|c'\n",
      "b'a new nation'\n",
      "b'%\\x07/\\xa6\\xb4\\x81\\xb1#\\xe7?s\\xe2.l\\x91\\xb8W\\xc3\\xb8:\\x93\\xbb\\xbaHl\\x8cHZ\\x18iO\\xa6'\n",
      "b'conceived in Liberty'\n",
      "b'6\\xec3~\\xa9\\xd2\\xcbU\\xb5\\xde+$\\x10\\xb7\\xfc\\x85U\\xd3\\xf60\\xbdB\\t\\x83\\xa5\\x8a<\\x0c\\x99Ns\\xfd'\n",
      "b'and dedicated'\n",
      "b'7\\xe9\\xa8v1\\x8d\\x8c\\xa4\\xc5\\x802`\\xad\\xe2h\\xd4z\\x9bN\\x80\\xc0}<\\xe3\\xc7\\x8a\\xe6\\x95\\x9c\\xa2b\\x88'\n",
      "b'to the proposition that'\n",
      "b'#\\xd5\\xc5\\xc4|ex,\\x8f6\\x89m\\xeec\\x82`}\\x08\\xa0\\xe4\\xf1\\x8b\\xba~\\xae\\xfc_\\xc4A\\x81\\x10@'\n",
      "b'all men are created equal'\n",
      "b'\\xd3\\x03ic$\\xfb\\xa4\\x0f5;U\\xcf\\xad\\x97q\\x90/\\xf1\\xbcR2\\xe3\\xcf\\x0c\\x13\\xa4+\\xc0F:\\x03\\x84'\n",
      "b'that this nation'\n",
      "b'\\xcc\\x07\\xc7\\xf1\\x07\\x90\\xc3\\xb7f\\xd9\\x0f\\x89o\\xca\\xa5\\x1a\\xdd\\xbc.\\xef\\xc4K\\xde\\xac2\\xb5\\xa0\\xd4\\x8e\\x8f\\x87w'\n",
      "b'under God'\n",
      "b'\\xd0\\xcb%\\xb7\\xc6\\x00\\xf0\\x16\\xf3>\\xe4.\\xfa-\\xbdj0\\xdb\\x7f\\x0b\\x94#\\xb9\\xec/\\x8f\\xd9\\x9b\\xa98\\xe4\\n'\n",
      "b'shall have a new birth of freedom'\n",
      "b'>\\xf8 \\xd5S]\\xd8P\\x93\\x07\\xaf\\xa60B\\xe9*\\xa4U\\x1d\\xf6&\\xa1\\x9c\\xaeQ\\xca`,dr\\x1c\\x83'\n",
      "b'and that government'\n",
      "b'\\x08X\\xd8\\x81s\\r\\xb1\\xbc\\xfb\\x1c\\xf0\\x7f\\x01\\x7f\\x1b\\xf0\\xd3\\x01\\x7f`\\xb3(\\xe5E$\"\\x8d\\xea\\x85\\x08H\\x99'\n",
      "b'of the people'\n",
      "b'\\xab\\xf4\\xcd\\xfar\\xcc\\x17\\x8d\\xe4\\xa2\\x948\\xf5\\x08\\xa5\\xe9J+\\xd8Z\\xeb\\t}\\xedn>\\xc3\\xd3\\xd5O!\\xba'\n",
      "b'by the people'\n",
      "b'.9\\xac\\xd6\\xaff,z\\xbc\\xde\\xe6\\xb1\\xf8l\\x1a\\xb1IF\\xf2\\xc4\\xb02q\\xd4\\xbc\\x8d\\x88\\xb3\\x826@\\xbe'\n",
      "b'for the people'\n",
      "b'f\\x1bsJ\\x88\\x0e\\xee\\xf6`\\xaa\\xc4\\xcf\\xa0\\xbe\\xa8Oocg\\xa0\\xa2\\x1d~O\\xb7\\x89Re\\xa4\\xc2\\x12\\xaa'\n",
      "b'shall not perish from the earth'\n",
      "b\"Z8\\xf4J\\x87\\xd6\\xcf\\xf435\\xa0H\\xd6\\x9eF;\\xe0-n\\x00\\x9e{'\\xfe\\x17\\xd9\\x9f\\x19\\x97\\x8e\\x81!\"\n"
     ]
    }
   ],
   "source": [
    "test = MerkleTree(data)\n",
    "test.createLeaves()\n",
    "test.createTree()\n",
    "# test.createTree()"
   ]
  },
  {
   "cell_type": "code",
   "execution_count": 56,
   "metadata": {
    "collapsed": false
   },
   "outputs": [
    {
     "name": "stdout",
     "output_type": "stream",
     "text": [
      "b'F\\xbc_\\xf1\\xbdKD\\x85\\x96hck\\xf0 \\xc3\\xeaF\\x94 `\\xecL\\xb8\\xc5\\xa5k\\xe0&\\x8d`3E'\n",
      "b'F\\xbc_\\xf1\\xbdKD\\x85\\x96hck\\xf0 \\xc3\\xeaF\\x94 `\\xecL\\xb8\\xc5\\xa5k\\xe0&\\x8d`3E'\n"
     ]
    }
   ],
   "source": [
    "# print(test.root[0].data)\n",
    "# print(test.root[0].leftChild.data)\n",
    "# print(test.root[0].rightChild.data)\n",
    "# print( test.nodes[-1][0].data )\n",
    "# print([test.nodes[-2][i].data for i in range(2)])\n",
    "print(test.nodes[0][0].parent.data)\n",
    "print(test.nodes[1][0].data)"
   ]
  },
  {
   "cell_type": "code",
   "execution_count": 61,
   "metadata": {
    "collapsed": false
   },
   "outputs": [
    {
     "name": "stdout",
     "output_type": "stream",
     "text": [
      "checking if data string b'Four score and seven years ago' is in merkle tree...\n",
      "True\n",
      "checking if data string b'hi abe lincoln' is in merkle tree...\n"
     ]
    },
    {
     "ename": "ValueError",
     "evalue": "data block not found",
     "output_type": "error",
     "traceback": [
      "\u001b[1;31m---------------------------------------------------------------------------\u001b[0m",
      "\u001b[1;31mValueError\u001b[0m                                Traceback (most recent call last)",
      "\u001b[1;32m<ipython-input-61-00078920364e>\u001b[0m in \u001b[0;36m<module>\u001b[1;34m()\u001b[0m\n\u001b[0;32m      6\u001b[0m \u001b[0mteststring\u001b[0m \u001b[1;33m=\u001b[0m \u001b[1;34mb'hi abe lincoln'\u001b[0m\u001b[1;33m\u001b[0m\u001b[0m\n\u001b[0;32m      7\u001b[0m \u001b[0mprint\u001b[0m\u001b[1;33m(\u001b[0m\u001b[1;34m\"checking if data string {} is in merkle tree...\"\u001b[0m\u001b[1;33m.\u001b[0m\u001b[0mformat\u001b[0m\u001b[1;33m(\u001b[0m\u001b[0mteststring\u001b[0m\u001b[1;33m)\u001b[0m\u001b[1;33m)\u001b[0m\u001b[1;33m\u001b[0m\u001b[0m\n\u001b[1;32m----> 8\u001b[1;33m \u001b[0mresult\u001b[0m \u001b[1;33m=\u001b[0m \u001b[0mtest\u001b[0m\u001b[1;33m.\u001b[0m\u001b[0mtraverseToRoot\u001b[0m\u001b[1;33m(\u001b[0m\u001b[0mteststring\u001b[0m\u001b[1;33m)\u001b[0m\u001b[1;33m\u001b[0m\u001b[0m\n\u001b[0m\u001b[0;32m      9\u001b[0m \u001b[0mprint\u001b[0m\u001b[1;33m(\u001b[0m \u001b[0mresult\u001b[0m\u001b[1;33m[\u001b[0m\u001b[1;33m-\u001b[0m\u001b[1;36m1\u001b[0m\u001b[1;33m]\u001b[0m \u001b[1;33m==\u001b[0m \u001b[0mtest\u001b[0m\u001b[1;33m.\u001b[0m\u001b[0mroot\u001b[0m\u001b[1;33m.\u001b[0m\u001b[0mdata\u001b[0m \u001b[1;33m)\u001b[0m\u001b[1;33m\u001b[0m\u001b[0m\n\u001b[0;32m     10\u001b[0m \u001b[1;33m\u001b[0m\u001b[0m\n",
      "\u001b[1;32m<ipython-input-54-ebc84ed1bae1>\u001b[0m in \u001b[0;36mtraverseToRoot\u001b[1;34m(self, datablock)\u001b[0m\n\u001b[0;32m     47\u001b[0m                     \u001b[1;32mreturn\u001b[0m \u001b[0mleaf\u001b[0m\u001b[1;33m\u001b[0m\u001b[0m\n\u001b[0;32m     48\u001b[0m             \u001b[1;32mraise\u001b[0m \u001b[0mValueError\u001b[0m\u001b[1;33m(\u001b[0m\u001b[1;34m\"data block not found\"\u001b[0m \u001b[1;33m)\u001b[0m\u001b[1;33m\u001b[0m\u001b[0m\n\u001b[1;32m---> 49\u001b[1;33m         \u001b[0mcurrNode\u001b[0m \u001b[1;33m=\u001b[0m \u001b[0mfindLeaf\u001b[0m\u001b[1;33m(\u001b[0m\u001b[0mdatablock\u001b[0m\u001b[1;33m)\u001b[0m\u001b[1;33m\u001b[0m\u001b[0m\n\u001b[0m\u001b[0;32m     50\u001b[0m         \u001b[0mchainofNodes\u001b[0m \u001b[1;33m=\u001b[0m \u001b[1;33m[\u001b[0m\u001b[1;33m]\u001b[0m\u001b[1;33m\u001b[0m\u001b[0m\n\u001b[0;32m     51\u001b[0m         \u001b[1;32mwhile\u001b[0m \u001b[0mcurrNode\u001b[0m\u001b[1;33m:\u001b[0m\u001b[1;33m\u001b[0m\u001b[0m\n",
      "\u001b[1;32m<ipython-input-54-ebc84ed1bae1>\u001b[0m in \u001b[0;36mfindLeaf\u001b[1;34m(datablock)\u001b[0m\n\u001b[0;32m     46\u001b[0m                 \u001b[1;32mif\u001b[0m \u001b[0mself\u001b[0m\u001b[1;33m.\u001b[0m\u001b[0mhashFunction\u001b[0m\u001b[1;33m(\u001b[0m\u001b[0mdatablock\u001b[0m\u001b[1;33m)\u001b[0m \u001b[1;33m==\u001b[0m \u001b[0mleaf\u001b[0m\u001b[1;33m.\u001b[0m\u001b[0mdata\u001b[0m\u001b[1;33m:\u001b[0m\u001b[1;33m\u001b[0m\u001b[0m\n\u001b[0;32m     47\u001b[0m                     \u001b[1;32mreturn\u001b[0m \u001b[0mleaf\u001b[0m\u001b[1;33m\u001b[0m\u001b[0m\n\u001b[1;32m---> 48\u001b[1;33m             \u001b[1;32mraise\u001b[0m \u001b[0mValueError\u001b[0m\u001b[1;33m(\u001b[0m\u001b[1;34m\"data block not found\"\u001b[0m \u001b[1;33m)\u001b[0m\u001b[1;33m\u001b[0m\u001b[0m\n\u001b[0m\u001b[0;32m     49\u001b[0m         \u001b[0mcurrNode\u001b[0m \u001b[1;33m=\u001b[0m \u001b[0mfindLeaf\u001b[0m\u001b[1;33m(\u001b[0m\u001b[0mdatablock\u001b[0m\u001b[1;33m)\u001b[0m\u001b[1;33m\u001b[0m\u001b[0m\n\u001b[0;32m     50\u001b[0m         \u001b[0mchainofNodes\u001b[0m \u001b[1;33m=\u001b[0m \u001b[1;33m[\u001b[0m\u001b[1;33m]\u001b[0m\u001b[1;33m\u001b[0m\u001b[0m\n",
      "\u001b[1;31mValueError\u001b[0m: data block not found"
     ]
    }
   ],
   "source": [
    "teststring = b'Four score and seven years ago'\n",
    "print(\"checking if data string {} is in merkle tree...\".format(teststring))\n",
    "result = test.traverseToRoot(teststring)\n",
    "print( result[-1] == test.root.data )\n",
    "\n",
    "teststring = b'hi abe lincoln'\n",
    "print(\"checking if data string {} is in merkle tree...\".format(teststring))\n",
    "result = test.traverseToRoot(teststring)\n",
    "print( result[-1] == test.root.data )\n",
    "\n"
   ]
  },
  {
   "cell_type": "code",
   "execution_count": null,
   "metadata": {
    "collapsed": false
   },
   "outputs": [],
   "source": [
    "array = ['a','b','c','d','e','f']\n",
    "shit = list(zip(array[::2],array[1::2]))\n",
    "[x+y for (x,y) in shit]"
   ]
  },
  {
   "cell_type": "code",
   "execution_count": null,
   "metadata": {
    "collapsed": false
   },
   "outputs": [],
   "source": [
    "newshit = []\n",
    "newshit.append(array)\n",
    "newshit.append(array)\n",
    "newshit[0][0]\n",
    "newshit[0][-1]\n"
   ]
  },
  {
   "cell_type": "code",
   "execution_count": null,
   "metadata": {
    "collapsed": true
   },
   "outputs": [],
   "source": []
  }
 ],
 "metadata": {
  "anaconda-cloud": {},
  "kernelspec": {
   "display_name": "Python [Root]",
   "language": "python",
   "name": "Python [Root]"
  },
  "language_info": {
   "codemirror_mode": {
    "name": "ipython",
    "version": 3
   },
   "file_extension": ".py",
   "mimetype": "text/x-python",
   "name": "python",
   "nbconvert_exporter": "python",
   "pygments_lexer": "ipython3",
   "version": "3.5.2"
  }
 },
 "nbformat": 4,
 "nbformat_minor": 2
}
